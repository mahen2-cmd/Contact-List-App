{
 "cells": [
  {
   "cell_type": "code",
   "execution_count": 1,
   "metadata": {},
   "outputs": [],
   "source": [
    "import sqlite3"
   ]
  },
  {
   "cell_type": "code",
   "execution_count": 3,
   "metadata": {},
   "outputs": [],
   "source": [
    "conn = sqlite3.connect('User.db')\n",
    "cursor = conn.cursor()\n",
    "\n",
    "\n",
    "# Define the SQL query to create the table\n",
    "create_table_query = '''\n",
    "    CREATE TABLE IF NOT EXISTS Contacts (\n",
    "        id INTEGER PRIMARY KEY,\n",
    "        name TEXT,\n",
    "        email TEXT,\n",
    "        phoneNumber INTEGER,\n",
    "        user_id INTEGER\n",
    "    );\n",
    "'''\n",
    "\n",
    "cursor.execute(create_table_query)\n",
    "\n",
    "# cursor.execute('SELECT EXISTS ( SELECT 1 FROM User WHERE username = ?)', (username,))\n",
    "\n",
    "# Save the changes and close the connection\n",
    "conn.commit()\n",
    "conn.close()\n"
   ]
  },
  {
   "cell_type": "code",
   "execution_count": 8,
   "metadata": {},
   "outputs": [
    {
     "name": "stdout",
     "output_type": "stream",
     "text": [
      "The index of zain is: 3\n"
     ]
    }
   ],
   "source": [
    "from flask import Flask\n",
    "import sqlite3\n",
    "\n",
    "app = Flask(__name__)\n",
    "\n",
    "# Configuration\n",
    "DATABASE = 'User.db'\n",
    "\n",
    "def empty_table(table_name):\n",
    "    # Connect to the database\n",
    "    conn = sqlite3.connect(DATABASE)\n",
    "    cursor = conn.cursor()\n",
    "\n",
    "    # Define the SQL query to empty the table\n",
    "    empty_table_query = f'DELETE FROM {table_name};'\n",
    "\n",
    "    # Execute the SQL query\n",
    "    cursor.execute(empty_table_query)\n",
    "\n",
    "    # Commit changes and close the connection\n",
    "    conn.commit()\n",
    "    conn.close()\n",
    "\n",
    "\n",
    "def get_person_index_by_username(username):\n",
    "    # Connect to the database\n",
    "    conn = sqlite3.connect(DATABASE)\n",
    "    cursor = conn.cursor()\n",
    "\n",
    "    # Define the SQL query to retrieve the index based on username\n",
    "    query = f'SELECT id FROM User WHERE username = ?;'\n",
    "    \n",
    "    # Execute the query with the username as a parameter\n",
    "    cursor.execute(query, (username,))\n",
    "\n",
    "    # Fetch the result\n",
    "    result = cursor.fetchone()\n",
    "\n",
    "    # Close the connection\n",
    "    conn.close()\n",
    "\n",
    "    if result:\n",
    "        return result[0]  # Return the index (ID) of the person\n",
    "    else:\n",
    "        return None  # Return None if username not found\n",
    "\n",
    "if __name__ == '__main__':\n",
    "    username_to_find = 'zain'  # Replace with the username you want to search for\n",
    "    person_index = get_person_index_by_username(username_to_find)\n",
    "    if person_index:\n",
    "        print(f\"The index of {username_to_find} is: {person_index}\")\n",
    "    else:\n",
    "        print(f\"Username {username_to_find} not found.\")\n",
    "\n",
    "\n",
    "\n",
    "\n",
    "\n",
    "\n",
    "\n",
    "\n",
    "\n",
    "\n",
    "\n",
    "# if __name__ == '__main__':\n",
    "#     empty_table('contacts')\n"
   ]
  },
  {
   "cell_type": "code",
   "execution_count": 9,
   "metadata": {},
   "outputs": [
    {
     "name": "stdout",
     "output_type": "stream",
     "text": [
      "Hello World\n"
     ]
    }
   ],
   "source": [
    "print(\"Hello World\")"
   ]
  }
 ],
 "metadata": {
  "kernelspec": {
   "display_name": "Python 3",
   "language": "python",
   "name": "python3"
  },
  "language_info": {
   "codemirror_mode": {
    "name": "ipython",
    "version": 3
   },
   "file_extension": ".py",
   "mimetype": "text/x-python",
   "name": "python",
   "nbconvert_exporter": "python",
   "pygments_lexer": "ipython3",
   "version": "3.11.4"
  },
  "orig_nbformat": 4
 },
 "nbformat": 4,
 "nbformat_minor": 2
}
