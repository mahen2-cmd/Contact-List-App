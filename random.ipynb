{
 "cells": [
  {
   "cell_type": "code",
   "execution_count": 1,
   "metadata": {},
   "outputs": [],
   "source": [
    "import sqlite3"
   ]
  },
  {
   "cell_type": "code",
   "execution_count": 3,
   "metadata": {},
   "outputs": [],
   "source": [
    "conn = sqlite3.connect('User.db')\n",
    "cursor = conn.cursor()\n",
    "\n",
    "\n",
    "# Define the SQL query to create the table\n",
    "create_table_query = '''\n",
    "    CREATE TABLE IF NOT EXISTS Contacts (\n",
    "        id INTEGER PRIMARY KEY,\n",
    "        name TEXT,\n",
    "        email TEXT,\n",
    "        phoneNumber INTEGER,\n",
    "        user_id INTEGER\n",
    "    );\n",
    "'''\n",
    "\n",
    "cursor.execute(create_table_query)\n",
    "\n",
    "# cursor.execute('SELECT EXISTS ( SELECT 1 FROM User WHERE username = ?)', (username,))\n",
    "\n",
    "# Save the changes and close the connection\n",
    "conn.commit()\n",
    "conn.close()\n"
   ]
  }
 ],
 "metadata": {
  "kernelspec": {
   "display_name": "Python 3",
   "language": "python",
   "name": "python3"
  },
  "language_info": {
   "codemirror_mode": {
    "name": "ipython",
    "version": 3
   },
   "file_extension": ".py",
   "mimetype": "text/x-python",
   "name": "python",
   "nbconvert_exporter": "python",
   "pygments_lexer": "ipython3",
   "version": "3.11.4"
  },
  "orig_nbformat": 4
 },
 "nbformat": 4,
 "nbformat_minor": 2
}
